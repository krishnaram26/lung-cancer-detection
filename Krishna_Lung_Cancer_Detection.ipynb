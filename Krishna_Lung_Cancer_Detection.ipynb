{
  "nbformat": 4,
  "nbformat_minor": 0,
  "metadata": {
    "colab": {
      "provenance": []
    },
    "kernelspec": {
      "name": "python3",
      "display_name": "Python 3"
    },
    "language_info": {
      "name": "python"
    }
  },
  "cells": [
    {
      "cell_type": "code",
      "execution_count": null,
      "metadata": {
        "id": "hMzVEqjiCCiS"
      },
      "outputs": [],
      "source": [
        "import os\n",
        "import numpy as np\n",
        "import matplotlib.pyplot as plt\n",
        "from tensorflow.keras.models import Sequential\n",
        "from tensorflow.keras.layers import Conv2D, MaxPooling2D, Flatten, Dense, Dropout\n",
        "from tensorflow.keras.preprocessing.image import ImageDataGenerator\n",
        "from tensorflow.keras.preprocessing import image\n",
        "import shutil\n",
        "import tensorflow as tf\n",
        "from tensorflow.keras import Input"
      ]
    },
    {
      "cell_type": "code",
      "source": [
        "print(\"TensorFlow version:\", tf.__version__)"
      ],
      "metadata": {
        "colab": {
          "base_uri": "https://localhost:8080/"
        },
        "id": "myD-rZarCLFO",
        "outputId": "f232ec65-7ef0-4881-ae10-f53d4e8c10e6"
      },
      "execution_count": null,
      "outputs": [
        {
          "output_type": "stream",
          "name": "stdout",
          "text": [
            "TensorFlow version: 2.17.1\n"
          ]
        }
      ]
    },
    {
      "cell_type": "code",
      "source": [
        "data_dir = \"/content/dataset\"\n",
        "lung_cancer_dir = os.path.join(data_dir, \"lung_cancer\")\n",
        "normal_dir = os.path.join(data_dir, \"normal\")"
      ],
      "metadata": {
        "id": "Iidbo7xFCb6k"
      },
      "execution_count": null,
      "outputs": []
    },
    {
      "cell_type": "code",
      "source": [
        "os.makedirs(lung_cancer_dir, exist_ok=True)\n",
        "os.makedirs(normal_dir, exist_ok=True)"
      ],
      "metadata": {
        "id": "z3GLVRKoDHws"
      },
      "execution_count": null,
      "outputs": []
    },
    {
      "cell_type": "code",
      "source": [
        "for filename in os.listdir(data_dir):\n",
        "    if filename.endswith(\".png\"):\n",
        "        if \"000019\" in filename or \"000020\" in filename:\n",
        "            shutil.move(os.path.join(data_dir, filename), lung_cancer_dir)\n",
        "        elif \"000021\" in filename:\n",
        "            shutil.move(os.path.join(data_dir, filename), normal_dir)"
      ],
      "metadata": {
        "id": "Ais5glqlDLk8"
      },
      "execution_count": null,
      "outputs": []
    },
    {
      "cell_type": "code",
      "source": [
        "data_gen = ImageDataGenerator(rescale=1./255, validation_split=0.2)\n",
        "\n",
        "train_data = data_gen.flow_from_directory(\n",
        "    data_dir,\n",
        "    target_size=(150, 150),\n",
        "    batch_size=16,\n",
        "    class_mode='binary',\n",
        "    subset='training'\n",
        ")\n",
        "\n",
        "val_data = data_gen.flow_from_directory(\n",
        "    data_dir,\n",
        "    target_size=(150, 150),\n",
        "    batch_size=16,\n",
        "    class_mode='binary',\n",
        "    subset='validation'\n",
        ")"
      ],
      "metadata": {
        "colab": {
          "base_uri": "https://localhost:8080/"
        },
        "id": "U0re9XAlDOH8",
        "outputId": "b5757e91-c271-4a61-fa86-008d53a320f5"
      },
      "execution_count": null,
      "outputs": [
        {
          "output_type": "stream",
          "name": "stdout",
          "text": [
            "Found 158 images belonging to 4 classes.\n",
            "Found 39 images belonging to 4 classes.\n"
          ]
        }
      ]
    },
    {
      "cell_type": "code",
      "source": [
        "print(os.listdir('/content/dataset'))\n",
        "print(os.listdir('/content/dataset/lung'))"
      ],
      "metadata": {
        "colab": {
          "base_uri": "https://localhost:8080/"
        },
        "id": "Ahch2BVqDSHc",
        "outputId": "18e144c1-ceb2-460b-8078-6777da236472"
      },
      "execution_count": null,
      "outputs": [
        {
          "output_type": "stream",
          "name": "stdout",
          "text": [
            "['normal', 'lung_cancer', '.ipynb_checkpoints', 'lung']\n",
            "['000230_05_01_165.png', '000103_02_01_060.png', '000103_01_01_173.png', '000223_08_01_109.png', '000103_12_02_161.png', '000238_09_03_162.png', '000138_02_01_101.png', '000021_03_01_017.png', '000103_06_01_131.png', '002463_01_01_029.png', '000138_01_01_148.png', '000103_08_01_016.png', '000019_03_01_025.png', '000284_01_02_105.png', '000103_09_01_019.png', '000020_04_01_143.png', '000315_04_03_145.png', '000027_02_01_105.png', '000198_05_01_124.png', '000103_12_01_105.png', '000328_08_03_180.png', '000021_02_01_068.png', '000017_02_01_016.png', '000143_04_02_126.png', '000230_05_01_233.png', '000223_09_02_132.png', '000874_03_02_219.png', '000278_07_02_182.png', '000747_03_03_172.png', '000276_05_02_188.png', '000103_01_01_104.png', '000247_05_01_178.png', '000308_03_02_091.png', '000328_08_03_167.png', '003412_03_01_108.png', '002639_05_01_141.png', '000223_07_01_106.png', '000223_08_01_106.png', '000207_04_01_191.png', '004085_01_02_107.png', '000065_06_01_030.png', '000021_03_01_012.png', '000245_03_02_214.png', '000103_13_02_092.png', '000306_06_02_126.png', '000238_09_03_268.png', '000063_03_01_144.png', '000103_13_02_122.png', '000103_02_01_107.png', '000143_05_01_136.png', '000226_02_01_079.png', '003311_02_01_028.png', '000019_02_01_025.png', '000058_07_01_170.png', '002265_01_01_016.png', '000103_11_01_177.png', '000020_04_01_116.png', '000238_09_03_124.png', '000143_04_02_083.png', '000027_06_01_020.png', '000306_06_02_201.png', '000266_04_01_030.png', '000283_13_02_106.png', '002601_01_01_237.png', '000054_03_01_018.png', '000247_06_02_201.png', '000054_03_01_025.png', '003038_05_01_063.png', '000058_07_01_218.png', '000223_05_03_128.png', '000245_03_02_169.png', '000103_07_02_160.png', '000135_02_03_127.png', '000103_05_01_136.png', '000247_04_01_165.png', '000058_08_01_035.png', '000135_02_03_161.png', '000133_03_02_192.png', '000207_04_01_068.png', '000230_02_01_157.png', '002408_01_01_161.png', '000020_04_01_159.png', '000105_04_01_144.png', '000316_01_01_071.png', '000207_03_01_085.png', '000185_02_04_174.png', '000103_08_02_153.png', '000020_03_01_134.png', '000304_01_01_210.png', '000230_03_02_166.png', '000103_07_02_082.png', '000103_03_01_166.png', '000314_04_02_183.png', '002241_02_03_218.png', '001598_15_02_231.png', '000266_04_02_150.png', '000063_04_01_160.png', '000027_05_01_099.png', '000103_13_01_019.png', '000223_07_01_168.png', '000058_06_02_177.png', '000293_06_03_154.png', '000251_08_02_195.png', '003601_02_01_076.png', '001797_01_02_221.png', '001083_09_01_093.png', '000231_02_01_042.png', '000207_04_01_059.png', '000310_01_01_115.png', '003380_03_01_140.png', '000133_03_02_145.png', '000223_07_01_133.png', '000020_03_01_166.png', '000058_07_01_195.png', '001404_01_01_139.png', '000238_10_02_152.png', '002124_02_02_251.png', '002701_04_03_160.png', '000103_12_01_075.png', '000020_03_01_212.png', '000284_03_01_084.png', '000229_03_04_202.png', '000135_02_03_178.png', '000020_02_01_062.png', '000103_09_02_169.png', '000315_04_03_094.png', '000247_05_01_221.png', '000223_05_03_105.png', '001337_01_02_176.png', '000328_08_03_172.png', '000247_06_02_149.png', '000199_01_02_207.png', '000228_03_03_165.png', '000230_04_01_174.png', '000063_01_01_155.png', '000188_03_01_146.png', '000054_03_01_033.png', '000247_03_01_202.png', '000223_06_03_104.png', '000103_08_01_021.png', '000223_09_02_109.png', '000266_03_02_138.png', '000271_12_02_237.png', '000019_01_01_021.png', '002265_02_01_031.png', '000282_04_02_120.png', '000021_01_01_016.png', '000230_01_01_175.png', '000271_12_02_242.png', '000143_05_01_116.png', '000020_01_01_066.png', '000103_05_01_133.png', '000103_03_01_082.png', '001574_13_01_090.png', '002276_05_03_078.png', '000293_06_03_161.png', '000265_11_02_190.png', '000569_08_01_020.png', '000105_03_01_162.png', '000063_02_01_035.png', '000027_04_01_119.png', '000103_02_01_168.png', '000247_04_01_209.png', '000308_03_02_122.png', '000021_04_01_090.png', '000293_06_03_176.png', '000284_01_02_121.png', '000223_09_02_146.png', '000207_03_01_075.png', '001230_03_02_148.png', '000001_03_01_088.png', '000230_04_01_240.png', '000188_02_01_157.png', '000103_04_02_090.png', '000280_02_03_200.png', '000266_04_02_098.png', '000749_03_02_108.png', '000284_02_02_018.png', '000103_09_01_023.png', '000196_03_02_173.png', '000143_05_01_120.png', '000105_02_01_149.png', '000143_04_02_153.png', '000103_10_01_166.png', '000198_05_01_112.png', '000229_03_04_153.png', '000027_01_01_113.png', '000058_06_02_223.png', '002435_04_01_230.png', '000266_03_02_133.png', '000103_04_02_175.png', '000138_01_01_114.png', '000196_03_02_132.png', '000027_03_01_095.png', '000230_04_01_242.png', '000103_07_01_022.png', '000223_07_01_107.png']\n"
          ]
        }
      ]
    },
    {
      "cell_type": "code",
      "source": [
        "model = Sequential([\n",
        "    Input(shape=(150, 150, 3)),\n",
        "    Conv2D(32, (3, 3), activation='relu'),\n",
        "    MaxPooling2D(2, 2),\n",
        "    Conv2D(64, (3, 3), activation='relu'),\n",
        "    MaxPooling2D(2, 2),\n",
        "    Flatten(),\n",
        "    Dense(128, activation='relu'),\n",
        "    Dropout(0.5),\n",
        "    Dense(1, activation='sigmoid')\n",
        "])\n",
        "\n",
        "model.compile(optimizer='adam', loss='binary_crossentropy', metrics=['accuracy'])\n"
      ],
      "metadata": {
        "id": "h1xqTM21EU2V"
      },
      "execution_count": null,
      "outputs": []
    },
    {
      "cell_type": "code",
      "source": [
        "history = model.fit(\n",
        "    train_data,\n",
        "    validation_data=val_data,\n",
        "    epochs=10\n",
        ")"
      ],
      "metadata": {
        "colab": {
          "base_uri": "https://localhost:8080/"
        },
        "id": "bhW4a8yzEcOJ",
        "outputId": "62875046-216e-47d0-f538-3f1a8a7a7d4e"
      },
      "execution_count": null,
      "outputs": [
        {
          "output_type": "stream",
          "name": "stdout",
          "text": [
            "Epoch 1/10\n"
          ]
        },
        {
          "output_type": "stream",
          "name": "stderr",
          "text": [
            "/usr/local/lib/python3.11/dist-packages/keras/src/trainers/data_adapters/py_dataset_adapter.py:122: UserWarning: Your `PyDataset` class should call `super().__init__(**kwargs)` in its constructor. `**kwargs` can include `workers`, `use_multiprocessing`, `max_queue_size`. Do not pass these arguments to `fit()`, as they will be ignored.\n",
            "  self._warn_if_super_not_called()\n"
          ]
        },
        {
          "output_type": "stream",
          "name": "stdout",
          "text": [
            "\u001b[1m10/10\u001b[0m \u001b[32m━━━━━━━━━━━━━━━━━━━━\u001b[0m\u001b[37m\u001b[0m \u001b[1m12s\u001b[0m 900ms/step - accuracy: 0.9482 - loss: 0.1734 - val_accuracy: 1.0000 - val_loss: 3.3967e-29\n",
            "Epoch 2/10\n",
            "\u001b[1m10/10\u001b[0m \u001b[32m━━━━━━━━━━━━━━━━━━━━\u001b[0m\u001b[37m\u001b[0m \u001b[1m8s\u001b[0m 671ms/step - accuracy: 1.0000 - loss: 1.3371e-28 - val_accuracy: 1.0000 - val_loss: 0.0000e+00\n",
            "Epoch 3/10\n",
            "\u001b[1m10/10\u001b[0m \u001b[32m━━━━━━━━━━━━━━━━━━━━\u001b[0m\u001b[37m\u001b[0m \u001b[1m11s\u001b[0m 653ms/step - accuracy: 1.0000 - loss: 0.0000e+00 - val_accuracy: 1.0000 - val_loss: 0.0000e+00\n",
            "Epoch 4/10\n",
            "\u001b[1m10/10\u001b[0m \u001b[32m━━━━━━━━━━━━━━━━━━━━\u001b[0m\u001b[37m\u001b[0m \u001b[1m9s\u001b[0m 858ms/step - accuracy: 1.0000 - loss: 0.0000e+00 - val_accuracy: 1.0000 - val_loss: 0.0000e+00\n",
            "Epoch 5/10\n",
            "\u001b[1m10/10\u001b[0m \u001b[32m━━━━━━━━━━━━━━━━━━━━\u001b[0m\u001b[37m\u001b[0m \u001b[1m7s\u001b[0m 659ms/step - accuracy: 1.0000 - loss: 0.0000e+00 - val_accuracy: 1.0000 - val_loss: 0.0000e+00\n",
            "Epoch 6/10\n",
            "\u001b[1m10/10\u001b[0m \u001b[32m━━━━━━━━━━━━━━━━━━━━\u001b[0m\u001b[37m\u001b[0m \u001b[1m9s\u001b[0m 846ms/step - accuracy: 1.0000 - loss: 0.0000e+00 - val_accuracy: 1.0000 - val_loss: 0.0000e+00\n",
            "Epoch 7/10\n",
            "\u001b[1m10/10\u001b[0m \u001b[32m━━━━━━━━━━━━━━━━━━━━\u001b[0m\u001b[37m\u001b[0m \u001b[1m17s\u001b[0m 2s/step - accuracy: 1.0000 - loss: 0.0000e+00 - val_accuracy: 1.0000 - val_loss: 0.0000e+00\n",
            "Epoch 8/10\n",
            "\u001b[1m10/10\u001b[0m \u001b[32m━━━━━━━━━━━━━━━━━━━━\u001b[0m\u001b[37m\u001b[0m \u001b[1m14s\u001b[0m 896ms/step - accuracy: 1.0000 - loss: 0.0000e+00 - val_accuracy: 1.0000 - val_loss: 0.0000e+00\n",
            "Epoch 9/10\n",
            "\u001b[1m10/10\u001b[0m \u001b[32m━━━━━━━━━━━━━━━━━━━━\u001b[0m\u001b[37m\u001b[0m \u001b[1m9s\u001b[0m 793ms/step - accuracy: 1.0000 - loss: 0.0000e+00 - val_accuracy: 1.0000 - val_loss: 0.0000e+00\n",
            "Epoch 10/10\n",
            "\u001b[1m10/10\u001b[0m \u001b[32m━━━━━━━━━━━━━━━━━━━━\u001b[0m\u001b[37m\u001b[0m \u001b[1m8s\u001b[0m 683ms/step - accuracy: 1.0000 - loss: 0.0000e+00 - val_accuracy: 1.0000 - val_loss: 0.0000e+00\n"
          ]
        }
      ]
    },
    {
      "cell_type": "code",
      "source": [
        "model.save(\"lung_cancer_detector.h5\")"
      ],
      "metadata": {
        "colab": {
          "base_uri": "https://localhost:8080/"
        },
        "id": "xeHOITCrN9jL",
        "outputId": "2fc9bc0b-1c5d-417f-baea-e45153e22f80"
      },
      "execution_count": null,
      "outputs": [
        {
          "output_type": "stream",
          "name": "stderr",
          "text": [
            "WARNING:absl:You are saving your model as an HDF5 file via `model.save()` or `keras.saving.save_model(model)`. This file format is considered legacy. We recommend using instead the native Keras format, e.g. `model.save('my_model.keras')` or `keras.saving.save_model(model, 'my_model.keras')`. \n"
          ]
        }
      ]
    },
    {
      "cell_type": "code",
      "source": [
        "def predict_image(img_path):\n",
        "    img = image.load_img(img_path, target_size=(150, 150))\n",
        "    img_array = image.img_to_array(img)/255.0\n",
        "    img_array = np.expand_dims(img_array, axis=0)\n",
        "    prediction = model.predict(img_array)\n",
        "    if prediction[0] > 0.5:\n",
        "        print(\"Prediction: Lung Cancer Detected\")\n",
        "    else:\n",
        "        print(\"Prediction: No Lung Cancer Detected\")"
      ],
      "metadata": {
        "id": "_7prgL0COFVz"
      },
      "execution_count": null,
      "outputs": []
    },
    {
      "cell_type": "code",
      "source": [
        "predict_image(\"/content/dataset/lung/000001_03_01_088.png\")"
      ],
      "metadata": {
        "colab": {
          "base_uri": "https://localhost:8080/"
        },
        "id": "t38wm1_YOIii",
        "outputId": "2da4aaf0-832d-4cd1-e53e-69bbaffec5d8"
      },
      "execution_count": null,
      "outputs": [
        {
          "output_type": "stream",
          "name": "stdout",
          "text": [
            "\u001b[1m1/1\u001b[0m \u001b[32m━━━━━━━━━━━━━━━━━━━━\u001b[0m\u001b[37m\u001b[0m \u001b[1m0s\u001b[0m 39ms/step\n",
            "Prediction: Lung Cancer Detected\n"
          ]
        }
      ]
    },
    {
      "cell_type": "code",
      "source": [],
      "metadata": {
        "id": "iuXCyAtBvPyP"
      },
      "execution_count": null,
      "outputs": []
    }
  ]
}